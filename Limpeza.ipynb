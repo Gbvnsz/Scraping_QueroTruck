{
 "cells": [
  {
   "cell_type": "code",
   "execution_count": 4,
   "id": "d9eb0fe5",
   "metadata": {},
   "outputs": [],
   "source": [
    "import pandas as pd\n",
    "\n",
    "implementos = pd.read_excel(\"querotruck.xlsx\")\n",
    "\n",
    "implementos[\"MarcaModelo\"] = (implementos[\"Marca\"].astype(str).fillna(\"\").str.strip().str.cat(implementos[\"Modelo\"].astype(str).fillna(\"\").str.strip(), sep=\" \").str.replace(r\"\\s+\", \" \", regex=True).str.strip())\n",
    "\n",
    "implementos.drop(columns=[\"Marca\", \"Modelo\"], inplace=True)\n",
    "\n",
    "implementos.rename(columns={\n",
    "    \"MarcaModelo\": \"Implementos\"\n",
    "})\n",
    "\n",
    "implementos.to_excel(\"Implementos.xlsx\")"
   ]
  },
  {
   "cell_type": "code",
   "execution_count": 5,
   "id": "dc9b60c0",
   "metadata": {},
   "outputs": [],
   "source": [
    "implementos\n",
    "\n",
    "implementos.rename(columns={\n",
    "    \"MarcaModelo\": \"Implementos\"\n",
    "})\n",
    "\n",
    "implementos.to_excel(\"Implementos.xlsx\")"
   ]
  }
 ],
 "metadata": {
  "kernelspec": {
   "display_name": "base",
   "language": "python",
   "name": "python3"
  },
  "language_info": {
   "codemirror_mode": {
    "name": "ipython",
    "version": 3
   },
   "file_extension": ".py",
   "mimetype": "text/x-python",
   "name": "python",
   "nbconvert_exporter": "python",
   "pygments_lexer": "ipython3",
   "version": "3.12.7"
  }
 },
 "nbformat": 4,
 "nbformat_minor": 5
}
