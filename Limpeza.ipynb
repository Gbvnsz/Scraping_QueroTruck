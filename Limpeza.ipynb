{
 "cells": [
  {
   "cell_type": "code",
   "execution_count": 6,
   "id": "d9eb0fe5",
   "metadata": {},
   "outputs": [],
   "source": [
    "import pandas as pd\n",
    "import numpy as np\n",
    "import re\n",
    "\n",
    "def brl_to_float(x):\n",
    "    if pd.isna(x):\n",
    "        return np.nan\n",
    "    s = str(x)\n",
    "    s = re.sub(r\"[^0-9\\.,]\", \"\", s)\n",
    "    s = s.replace(\".\", \"\").replace(\",\", \".\")\n",
    "    return float(s) if s else np.nan\n",
    "\n",
    "implementos = pd.read_excel(\"querotruck.xlsx\")\n",
    "\n",
    "preco_float = implementos[\"Preço\"].map(brl_to_float)\n",
    "implementos[\"Preço\"] = pd.to_numeric(preco_float, errors=\"coerce\").round(0).astype(\"Int64\")\n",
    "\n",
    "implementos[\"MarcaModelo\"] = (implementos[\"Marca\"].astype(str).fillna(\"\").str.strip().str.cat(implementos[\"Modelo\"].astype(str).fillna(\"\").str.strip(), sep=\" \").str.replace(r\"\\s+\", \" \", regex=True).str.strip())\n",
    "\n",
    "implementos.drop(columns=[\"Marca\", \"Modelo\"], inplace=True)\n",
    "\n",
    "implementos.rename(columns={\n",
    "    \"MarcaModelo\": \"Implementos\"\n",
    "})\n",
    "\n",
    "implementos.to_excel(\"Implementos.xlsx\", index=False)"
   ]
  }
 ],
 "metadata": {
  "kernelspec": {
   "display_name": "base",
   "language": "python",
   "name": "python3"
  },
  "language_info": {
   "codemirror_mode": {
    "name": "ipython",
    "version": 3
   },
   "file_extension": ".py",
   "mimetype": "text/x-python",
   "name": "python",
   "nbconvert_exporter": "python",
   "pygments_lexer": "ipython3",
   "version": "3.12.7"
  }
 },
 "nbformat": 4,
 "nbformat_minor": 5
}
